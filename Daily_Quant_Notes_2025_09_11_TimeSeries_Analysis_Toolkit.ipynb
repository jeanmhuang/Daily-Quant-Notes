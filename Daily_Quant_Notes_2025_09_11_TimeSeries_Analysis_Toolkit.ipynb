{
  "cells": [
    {
      "cell_type": "markdown",
      "metadata": {
        "id": "view-in-github",
        "colab_type": "text"
      },
      "source": [
        "<a href=\"https://colab.research.google.com/github/jeanmhuang/Daily-Quant-Notes/blob/main/Daily_Quant_Notes_2025_09_11_TimeSeries_Analysis_Toolkit.ipynb\" target=\"_parent\"><img src=\"https://colab.research.google.com/assets/colab-badge.svg\" alt=\"Open In Colab\"/></a>"
      ]
    },
    {
      "cell_type": "markdown",
      "id": "ef114804",
      "metadata": {
        "id": "ef114804"
      },
      "source": [
        "# Time‑Series Analysis Toolkit (Equities)\n",
        "**Daily Quant Notes — 2025-09-11**\n",
        "\n",
        "This notebook is a **single-stop time‑series toolkit** you can run in Google Colab:\n",
        "- Pulls market data (default: `SPY`) and computes **log returns**\n",
        "- Runs **stationarity and dependence diagnostics** (ADF, KPSS, Ljung‑Box, ACF/PACF, ARCH LM)\n",
        "- Fits **ARIMA** for mean dynamics and **GARCH(1,1)** for conditional volatility\n",
        "- Performs an **expanding‑window walk‑forward** forecast\n",
        "- Reports **forecast metrics** and a small **toy trading rule** (for discussion only)\n",
        "\n",
        "> ⚠️ The toy strategy ignores costs/slippage; use it for diagnostics and interview discussion, not production.\n"
      ]
    },
    {
      "cell_type": "markdown",
      "id": "8ce4e637",
      "metadata": {
        "id": "8ce4e637"
      },
      "source": [
        "## 0) Setup\n"
      ]
    },
    {
      "cell_type": "code",
      "execution_count": null,
      "id": "03033caa",
      "metadata": {
        "id": "03033caa"
      },
      "outputs": [],
      "source": [
        "# %pip install yfinance pandas numpy matplotlib statsmodels arch --quiet\n",
        "\n",
        "import numpy as np\n",
        "import pandas as pd\n",
        "import matplotlib.pyplot as plt\n",
        "import yfinance as yf\n",
        "import statsmodels.api as sm\n",
        "import statsmodels.tsa.api as tsa\n",
        "from statsmodels.tsa.stattools import adfuller, kpss\n",
        "from statsmodels.stats.diagnostic import acorr_ljungbox, het_arch\n",
        "from arch import arch_model\n",
        "\n",
        "plt.rcParams['figure.figsize'] = (10, 5)\n",
        "pd.options.display.float_format = '{:.6f}'.format\n",
        "SEED = 42\n",
        "np.random.seed(SEED)"
      ]
    },
    {
      "cell_type": "markdown",
      "id": "fe6582d8",
      "metadata": {
        "id": "fe6582d8"
      },
      "source": [
        "## 1) Parameters"
      ]
    },
    {
      "cell_type": "code",
      "execution_count": null,
      "id": "6968586e",
      "metadata": {
        "id": "6968586e"
      },
      "outputs": [],
      "source": [
        "TICKER = \"SPY\"      # change to any liquid symbol (e.g., 'QQQ', 'AAPL')\n",
        "START = \"2005-01-01\"\n",
        "END = None          # None = through today\n",
        "\n",
        "print({\"TICKER\": TICKER, \"START\": START, \"END\": END})"
      ]
    },
    {
      "cell_type": "markdown",
      "id": "50082cc2",
      "metadata": {
        "id": "50082cc2"
      },
      "source": [
        "## 2) Data Download & Returns"
      ]
    },
    {
      "cell_type": "code",
      "execution_count": null,
      "id": "5078081c",
      "metadata": {
        "id": "5078081c"
      },
      "outputs": [],
      "source": [
        "data = yf.download(TICKER, start=START, end=END, auto_adjust=True, progress=False)\n",
        "assert not data.empty, \"No data downloaded; check ticker or internet connection.\"\n",
        "px = data['Close'].rename('close')\n",
        "log_px = np.log(px)\n",
        "ret = log_px.diff().dropna().rename('r')\n",
        "ret.describe()"
      ]
    },
    {
      "cell_type": "markdown",
      "id": "c1535e41",
      "metadata": {
        "id": "c1535e41"
      },
      "source": [
        "## 3) Exploratory Plots (separate charts)"
      ]
    },
    {
      "cell_type": "code",
      "execution_count": null,
      "id": "39f12154",
      "metadata": {
        "id": "39f12154"
      },
      "outputs": [],
      "source": [
        "plt.figure(); px.plot(); plt.title(f\"{TICKER} Adjusted Close\"); plt.xlabel(\"Date\"); plt.ylabel(\"Price\"); plt.show()"
      ]
    },
    {
      "cell_type": "code",
      "execution_count": null,
      "id": "d589d374",
      "metadata": {
        "id": "d589d374"
      },
      "outputs": [],
      "source": [
        "plt.figure(); ret.plot(); plt.title(f\"{TICKER} Daily Log Returns\"); plt.xlabel(\"Date\"); plt.ylabel(\"Log return\"); plt.show()"
      ]
    },
    {
      "cell_type": "code",
      "execution_count": null,
      "id": "95b62e2e",
      "metadata": {
        "id": "95b62e2e"
      },
      "outputs": [],
      "source": [
        "plt.figure(); ret.rolling(21).std().plot(); plt.title(\"21‑Day Rolling Volatility\"); plt.xlabel(\"Date\"); plt.ylabel(\"Vol\"); plt.show()"
      ]
    },
    {
      "cell_type": "markdown",
      "id": "93924cef",
      "metadata": {
        "id": "93924cef"
      },
      "source": [
        "## 4) Stationarity & Dependence Diagnostics"
      ]
    },
    {
      "cell_type": "code",
      "execution_count": null,
      "id": "3e186e3c",
      "metadata": {
        "id": "3e186e3c"
      },
      "outputs": [],
      "source": [
        "def adf_series(x):\n",
        "    stat, p, lags, nobs, crit, icbest = adfuller(x, autolag='AIC')\n",
        "    return pd.Series({\"ADF stat\": stat, \"ADF p-value\": p, \"lags used\": lags, \"n obs\": nobs})\n",
        "\n",
        "def kpss_series(x, regression='c'):\n",
        "    stat, p, lags, crit = kpss(x, regression=regression, nlags='auto')\n",
        "    return pd.Series({\"KPSS stat\": stat, \"KPSS p-value\": p, \"lags\": lags})\n",
        "\n",
        "tests = pd.concat([adf_series(ret), kpss_series(ret)], axis=1)\n",
        "tests.columns = [\"ADF\", \"KPSS\"]\n",
        "tests"
      ]
    },
    {
      "cell_type": "code",
      "execution_count": null,
      "id": "c7029a22",
      "metadata": {
        "id": "c7029a22"
      },
      "outputs": [],
      "source": [
        "# ACF (returns)\n",
        "plt.figure()\n",
        "sm.graphics.tsa.plot_acf(ret, lags=40)\n",
        "plt.title(\"ACF — Returns\")\n",
        "plt.show()"
      ]
    },
    {
      "cell_type": "code",
      "execution_count": null,
      "id": "bf2dcd0a",
      "metadata": {
        "id": "bf2dcd0a"
      },
      "outputs": [],
      "source": [
        "# PACF (returns)\n",
        "plt.figure()\n",
        "sm.graphics.tsa.plot_pacf(ret, lags=40)\n",
        "plt.title(\"PACF — Returns\")\n",
        "plt.show()"
      ]
    },
    {
      "cell_type": "code",
      "execution_count": null,
      "id": "5ca21081",
      "metadata": {
        "id": "5ca21081"
      },
      "outputs": [],
      "source": [
        "# Ljung‑Box on returns (5, 10, 20 lags)\n",
        "lb = acorr_ljungbox(ret, lags=[5, 10, 20], return_df=True)\n",
        "lb"
      ]
    },
    {
      "cell_type": "code",
      "execution_count": null,
      "id": "277e1234",
      "metadata": {
        "id": "277e1234"
      },
      "outputs": [],
      "source": [
        "# ARCH LM test for heteroskedasticity (10 lags)\n",
        "arch_lm_stat, arch_lm_p, lags, crit = het_arch(ret, nlags=10)\n",
        "pd.Series({\"ARCH LM stat\": arch_lm_stat, \"p-value\": arch_lm_p, \"lags\": lags})"
      ]
    },
    {
      "cell_type": "markdown",
      "id": "009617a9",
      "metadata": {
        "id": "009617a9"
      },
      "source": [
        "## 5) Mean Model (ARIMA) — Small AIC Grid"
      ]
    },
    {
      "cell_type": "code",
      "execution_count": null,
      "id": "95b829d9",
      "metadata": {
        "id": "95b829d9"
      },
      "outputs": [],
      "source": [
        "orders = [(0,0,0), (1,0,0), (2,0,0), (1,0,1), (0,0,1)]\n",
        "results = []\n",
        "for p,d,q in orders:\n",
        "    try:\n",
        "        res = tsa.ARIMA(ret, order=(p,d,q)).fit()\n",
        "        results.append((res.aic, (p,d,q), res))\n",
        "    except Exception as e:\n",
        "        pass\n",
        "\n",
        "best_aic, best_order, arima_res = sorted(results, key=lambda x: x[0])[0]\n",
        "print(\"Best ARIMA order by AIC:\", best_order, \"AIC:\", best_aic)\n",
        "print(arima_res.summary())"
      ]
    },
    {
      "cell_type": "code",
      "execution_count": null,
      "id": "f2fe92bb",
      "metadata": {
        "id": "f2fe92bb"
      },
      "outputs": [],
      "source": [
        "resid = arima_res.resid.dropna()\n",
        "\n",
        "plt.figure(); resid.plot(); plt.title(\"ARIMA Residuals\"); plt.xlabel(\"Date\"); plt.ylabel(\"Residual\"); plt.show()\n",
        "\n",
        "plt.figure()\n",
        "sm.graphics.tsa.plot_acf(resid, lags=40)\n",
        "plt.title(\"ACF — ARIMA Residuals\")\n",
        "plt.show()"
      ]
    },
    {
      "cell_type": "markdown",
      "id": "23b22d46",
      "metadata": {
        "id": "23b22d46"
      },
      "source": [
        "## 6) Volatility Model (GARCH(1,1))"
      ]
    },
    {
      "cell_type": "code",
      "execution_count": null,
      "id": "31c7f76e",
      "metadata": {
        "id": "31c7f76e"
      },
      "outputs": [],
      "source": [
        "garch = arch_model(resid, vol='GARCH', p=1, q=1, mean='Zero', dist='normal')\n",
        "garch_res = garch.fit(disp='off')\n",
        "print(garch_res.summary())"
      ]
    },
    {
      "cell_type": "markdown",
      "id": "377e0708",
      "metadata": {
        "id": "377e0708"
      },
      "source": [
        "## 7) Expanding‑Window Walk‑Forward Forecast\n",
        "Forecast **next‑day return mean** and **volatility** and evaluate on unseen data."
      ]
    },
    {
      "cell_type": "code",
      "execution_count": null,
      "id": "acb907cc",
      "metadata": {
        "id": "acb907cc"
      },
      "outputs": [],
      "source": [
        "min_train = 252  # ~1 year\n",
        "idx = ret.index\n",
        "y = ret.copy()\n",
        "\n",
        "mean_fc = []\n",
        "vol_fc = []\n",
        "y_true = []\n",
        "\n",
        "for t in range(min_train, len(y)-1):\n",
        "    # Fit ARIMA on expanding window using previously chosen order\n",
        "    try:\n",
        "        ar = tsa.ARIMA(y.iloc[:t], order=best_order).fit()\n",
        "    except Exception:\n",
        "        ar = tsa.ARIMA(y.iloc[:t], order=(1,0,0)).fit()\n",
        "\n",
        "    mf = float(ar.forecast(1))\n",
        "    resid_t = ar.resid.dropna()\n",
        "\n",
        "    # Fit GARCH on residuals to forecast vol\n",
        "    try:\n",
        "        g = arch_model(resid_t, vol='GARCH', p=1, q=1, mean='Zero', dist='normal').fit(disp='off')\n",
        "        vf = float(np.sqrt(g.forecast(horizon=1).variance['h.1'].iloc[-1]))\n",
        "    except Exception:\n",
        "        vf = float(resid_t.std())\n",
        "\n",
        "    mean_fc.append(mf); vol_fc.append(vf); y_true.append(y.iloc[t+1])\n",
        "\n",
        "oos = pd.DataFrame({\"y_true\": y_true, \"mean_fc\": mean_fc, \"vol_fc\": vol_fc}, index=idx[min_train+1:])\n",
        "\n",
        "# Metrics\n",
        "mse = ((oos['y_true'] - oos['mean_fc'])**2).mean()\n",
        "hit = (np.sign(oos['y_true']) == np.sign(oos['mean_fc'])).mean()\n",
        "\n",
        "# Toy trading rule: long if forecast mean > 0 else short (no costs)\n",
        "toy_ret = np.sign(oos['mean_fc']) * oos['y_true']\n",
        "ann_ret = toy_ret.mean() * 252\n",
        "ann_vol = toy_ret.std(ddof=0) * np.sqrt(252)\n",
        "toy_sharpe = ann_ret / ann_vol if ann_vol != 0 else np.nan\n",
        "\n",
        "pd.Series({\n",
        "    \"MSE\": mse,\n",
        "    \"Direction Hit-Rate\": hit,\n",
        "    \"Toy Ann.Return\": ann_ret,\n",
        "    \"Toy Ann.Vol\": ann_vol,\n",
        "    \"Toy Sharpe\": toy_sharpe\n",
        "})"
      ]
    },
    {
      "cell_type": "code",
      "execution_count": null,
      "id": "0d9d2e78",
      "metadata": {
        "id": "0d9d2e78"
      },
      "outputs": [],
      "source": [
        "plt.figure(); (oos['y_true']).cumsum().plot(); plt.title(\"Cumulative Sum of True Returns (log)\"); plt.xlabel(\"Date\"); plt.ylabel(\"Cum log returns\"); plt.show()"
      ]
    },
    {
      "cell_type": "code",
      "execution_count": null,
      "id": "dbba9e6b",
      "metadata": {
        "id": "dbba9e6b"
      },
      "outputs": [],
      "source": [
        "plt.figure(); (oos['mean_fc']).cumsum().plot(); plt.title(\"Cumulative Sum of Forecasted Mean (log)\"); plt.xlabel(\"Date\"); plt.ylabel(\"Cum forecast\"); plt.show()"
      ]
    },
    {
      "cell_type": "code",
      "execution_count": null,
      "id": "ca3e807d",
      "metadata": {
        "id": "ca3e807d"
      },
      "outputs": [],
      "source": [
        "plt.figure(); oos['vol_fc'].plot(); plt.title(\"Forecasted Volatility (GARCH)\"); plt.xlabel(\"Date\"); plt.ylabel(\"Vol forecast\"); plt.show()"
      ]
    },
    {
      "cell_type": "markdown",
      "id": "5c206246",
      "metadata": {
        "id": "5c206246"
      },
      "source": [
        "## 8) Notes & Extensions\n",
        "- **Diagnostics first:** ADF/KPSS can disagree; discuss trend‑stationarity vs. unit root.\n",
        "- **Autocorrelation:** If Ljung‑Box p-values are low, low-order AR terms may help; else mean ≈ white noise.\n",
        "- **Volatility clustering:** ARCH LM significance motivates GARCH‑type models.\n",
        "- **Walk‑forward:** Evaluate only on **unseen** data; avoid tuning on full sample.\n",
        "- **Toy strategy is illustrative:** add costs/slippage, constraints, and execution modeling for realism.\n",
        "- **Extensions:** EGARCH/GJR, t‑distribution, regime filters, realized volatility, cross‑asset testing.\n"
      ]
    },
    {
      "cell_type": "markdown",
      "id": "cbae21d5",
      "metadata": {
        "id": "cbae21d5"
      },
      "source": [
        "## 9) Reproducibility"
      ]
    },
    {
      "cell_type": "code",
      "execution_count": null,
      "id": "bd1d44c7",
      "metadata": {
        "id": "bd1d44c7"
      },
      "outputs": [],
      "source": [
        "import sys, platform\n",
        "print(\"Python:\", sys.version)\n",
        "print(\"Platform:\", platform.platform())\n",
        "print(\"NumPy:\", np.__version__)\n",
        "print(\"pandas:\", pd.__version__)\n",
        "import statsmodels, arch\n",
        "print(\"statsmodels:\", statsmodels.__version__)\n",
        "print(\"arch:\", arch.__version__)\n"
      ]
    }
  ],
  "metadata": {
    "kernelspec": {
      "display_name": "Python 3",
      "name": "python3"
    },
    "colab": {
      "provenance": [],
      "include_colab_link": true
    }
  },
  "nbformat": 4,
  "nbformat_minor": 5
}