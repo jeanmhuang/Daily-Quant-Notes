{
  "cells": [
    {
      "cell_type": "markdown",
      "metadata": {
        "id": "view-in-github",
        "colab_type": "text"
      },
      "source": [
        "<a href=\"https://colab.research.google.com/github/jeanmhuang/Daily-Quant-Notes/blob/main/2025_09_11_MeanReversionInefficiency.ipynb\" target=\"_parent\"><img src=\"https://colab.research.google.com/assets/colab-badge.svg\" alt=\"Open In Colab\"/></a>"
      ]
    },
    {
      "cell_type": "markdown",
      "id": "60799215",
      "metadata": {
        "id": "60799215"
      },
      "source": [
        "# Detecting a Market Inefficiency: Short‑Horizon Mean Reversion\n",
        "**Daily Quant Notes — 2025-09-11**\n",
        "\n",
        "**Hypothesis:** There is short‑horizon mean reversion in equity returns: a negative return today predicts a positive return tomorrow (and vice versa).\n",
        "\n",
        "**Plan:**\n",
        "1. Define the inefficiency and formalize the hypothesis.\n",
        "2. Pull data (SPY by default; optionally a basket of tickers).\n",
        "3. Build signals (lagged return, rolling z‑score of returns).\n",
        "4. Test predictive power with OLS and HAC (Newey‑West) standard errors.\n",
        "5. Run a naïve mean‑reversion strategy and compute summary stats.\n",
        "6. Do a quick out‑of‑sample (expanding window) check.\n",
        "7. Summarize results and caveats.\n"
      ]
    },
    {
      "cell_type": "markdown",
      "id": "60cbed3f",
      "metadata": {
        "id": "60cbed3f"
      },
      "source": [
        "## 1) Setup"
      ]
    },
    {
      "cell_type": "code",
      "execution_count": 1,
      "id": "7c97433c",
      "metadata": {
        "id": "7c97433c"
      },
      "outputs": [],
      "source": [
        "%pip install yfinance pandas numpy statsmodels matplotlib pytz --quiet\n",
        "\n",
        "import numpy as np\n",
        "import pandas as pd\n",
        "import matplotlib.pyplot as plt\n",
        "import yfinance as yf\n",
        "import statsmodels.api as sm\n",
        "from statsmodels.stats import diagnostic as smd\n",
        "from statsmodels.stats.stattools import jarque_bera\n",
        "from datetime import datetime, timedelta, timezone\n",
        "\n",
        "plt.rcParams['figure.figsize'] = (10, 5)\n",
        "\n",
        "RISK_FREE_ANNUAL = 0.0   # set to 0 for simplicity or replace with daily T‑bill later\n",
        "TC_BPS = 5               # round‑trip transaction cost assumption in basis points for the demo\n",
        "SEED = 42\n",
        "np.random.seed(SEED)\n"
      ]
    },
    {
      "cell_type": "markdown",
      "id": "73b94c72",
      "metadata": {
        "id": "73b94c72"
      },
      "source": [
        "## 2) Define the inefficiency (formal hypothesis)\n",
        "Let $r_t$ be the daily close‑to‑close return. **Mean reversion** implies negative autocorrelation at short lags:\n",
        "\n",
        "- **Null (H0):** $\\mathbb{E}[r_{t+1} | r_t] = 0$ (no predictability)\n",
        "- **Alt (H1):** $\\mathbb{E}[r_{t+1} | r_t] = \\beta\\, r_t$ with $\\beta < 0$\n",
        "\n",
        "We test via OLS: $r_{t+1} = \\alpha + \\beta r_t + \\epsilon_{t+1}$ and use **HAC (Newey‑West)** standard errors.\n"
      ]
    },
    {
      "cell_type": "markdown",
      "id": "d0a929a3",
      "metadata": {
        "id": "d0a929a3"
      },
      "source": [
        "## 3) Data\n",
        "By default we load **SPY** (SPDR S&P 500 ETF) daily data. You can switch `TICKER` below or expand to multiple tickers.\n"
      ]
    },
    {
      "cell_type": "code",
      "execution_count": 2,
      "id": "cf66f857",
      "metadata": {
        "colab": {
          "base_uri": "https://localhost:8080/",
          "height": 356
        },
        "id": "cf66f857",
        "outputId": "4754a2c6-d7fe-46f1-9547-002c2fa5a2b0"
      },
      "outputs": [
        {
          "output_type": "error",
          "ename": "TypeError",
          "evalue": "'str' object is not callable",
          "traceback": [
            "\u001b[0;31m---------------------------------------------------------------------------\u001b[0m",
            "\u001b[0;31mTypeError\u001b[0m                                 Traceback (most recent call last)",
            "\u001b[0;32m/tmp/ipython-input-483357601.py\u001b[0m in \u001b[0;36m<cell line: 0>\u001b[0;34m()\u001b[0m\n\u001b[1;32m      5\u001b[0m \u001b[0mdata\u001b[0m \u001b[0;34m=\u001b[0m \u001b[0myf\u001b[0m\u001b[0;34m.\u001b[0m\u001b[0mdownload\u001b[0m\u001b[0;34m(\u001b[0m\u001b[0mTICKER\u001b[0m\u001b[0;34m,\u001b[0m \u001b[0mstart\u001b[0m\u001b[0;34m=\u001b[0m\u001b[0mSTART\u001b[0m\u001b[0;34m,\u001b[0m \u001b[0mend\u001b[0m\u001b[0;34m=\u001b[0m\u001b[0mEND\u001b[0m\u001b[0;34m,\u001b[0m \u001b[0mauto_adjust\u001b[0m\u001b[0;34m=\u001b[0m\u001b[0;32mTrue\u001b[0m\u001b[0;34m,\u001b[0m \u001b[0mprogress\u001b[0m\u001b[0;34m=\u001b[0m\u001b[0;32mFalse\u001b[0m\u001b[0;34m)\u001b[0m\u001b[0;34m\u001b[0m\u001b[0;34m\u001b[0m\u001b[0m\n\u001b[1;32m      6\u001b[0m \u001b[0;32massert\u001b[0m \u001b[0;32mnot\u001b[0m \u001b[0mdata\u001b[0m\u001b[0;34m.\u001b[0m\u001b[0mempty\u001b[0m\u001b[0;34m,\u001b[0m \u001b[0;34m\"No data downloaded. Check ticker or internet access.\"\u001b[0m\u001b[0;34m\u001b[0m\u001b[0;34m\u001b[0m\u001b[0m\n\u001b[0;32m----> 7\u001b[0;31m \u001b[0mpx\u001b[0m \u001b[0;34m=\u001b[0m \u001b[0mdata\u001b[0m\u001b[0;34m[\u001b[0m\u001b[0;34m'Close'\u001b[0m\u001b[0;34m]\u001b[0m\u001b[0;34m.\u001b[0m\u001b[0mrename\u001b[0m\u001b[0;34m(\u001b[0m\u001b[0;34m'close'\u001b[0m\u001b[0;34m)\u001b[0m\u001b[0;34m\u001b[0m\u001b[0;34m\u001b[0m\u001b[0m\n\u001b[0m\u001b[1;32m      8\u001b[0m \u001b[0mret\u001b[0m \u001b[0;34m=\u001b[0m \u001b[0mpx\u001b[0m\u001b[0;34m.\u001b[0m\u001b[0mpct_change\u001b[0m\u001b[0;34m(\u001b[0m\u001b[0;34m)\u001b[0m\u001b[0;34m.\u001b[0m\u001b[0mdropna\u001b[0m\u001b[0;34m(\u001b[0m\u001b[0;34m)\u001b[0m\u001b[0;34m.\u001b[0m\u001b[0mrename\u001b[0m\u001b[0;34m(\u001b[0m\u001b[0;34m'r'\u001b[0m\u001b[0;34m)\u001b[0m\u001b[0;34m\u001b[0m\u001b[0;34m\u001b[0m\u001b[0m\n\u001b[1;32m      9\u001b[0m \u001b[0mret\u001b[0m\u001b[0;34m.\u001b[0m\u001b[0mhead\u001b[0m\u001b[0;34m(\u001b[0m\u001b[0;34m)\u001b[0m\u001b[0;34m\u001b[0m\u001b[0;34m\u001b[0m\u001b[0m\n",
            "\u001b[0;32m/usr/local/lib/python3.12/dist-packages/pandas/core/frame.py\u001b[0m in \u001b[0;36mrename\u001b[0;34m(self, mapper, index, columns, axis, copy, inplace, level, errors)\u001b[0m\n\u001b[1;32m   5765\u001b[0m         \u001b[0;36m4\u001b[0m  \u001b[0;36m3\u001b[0m  \u001b[0;36m6\u001b[0m\u001b[0;34m\u001b[0m\u001b[0;34m\u001b[0m\u001b[0m\n\u001b[1;32m   5766\u001b[0m         \"\"\"\n\u001b[0;32m-> 5767\u001b[0;31m         return super()._rename(\n\u001b[0m\u001b[1;32m   5768\u001b[0m             \u001b[0mmapper\u001b[0m\u001b[0;34m=\u001b[0m\u001b[0mmapper\u001b[0m\u001b[0;34m,\u001b[0m\u001b[0;34m\u001b[0m\u001b[0;34m\u001b[0m\u001b[0m\n\u001b[1;32m   5769\u001b[0m             \u001b[0mindex\u001b[0m\u001b[0;34m=\u001b[0m\u001b[0mindex\u001b[0m\u001b[0;34m,\u001b[0m\u001b[0;34m\u001b[0m\u001b[0;34m\u001b[0m\u001b[0m\n",
            "\u001b[0;32m/usr/local/lib/python3.12/dist-packages/pandas/core/generic.py\u001b[0m in \u001b[0;36m_rename\u001b[0;34m(self, mapper, index, columns, axis, copy, inplace, level, errors)\u001b[0m\n\u001b[1;32m   1130\u001b[0m                     \u001b[0;32mraise\u001b[0m \u001b[0mKeyError\u001b[0m\u001b[0;34m(\u001b[0m\u001b[0;34mf\"{missing_labels} not found in axis\"\u001b[0m\u001b[0;34m)\u001b[0m\u001b[0;34m\u001b[0m\u001b[0;34m\u001b[0m\u001b[0m\n\u001b[1;32m   1131\u001b[0m \u001b[0;34m\u001b[0m\u001b[0m\n\u001b[0;32m-> 1132\u001b[0;31m             \u001b[0mnew_index\u001b[0m \u001b[0;34m=\u001b[0m \u001b[0max\u001b[0m\u001b[0;34m.\u001b[0m\u001b[0m_transform_index\u001b[0m\u001b[0;34m(\u001b[0m\u001b[0mf\u001b[0m\u001b[0;34m,\u001b[0m \u001b[0mlevel\u001b[0m\u001b[0;34m=\u001b[0m\u001b[0mlevel\u001b[0m\u001b[0;34m)\u001b[0m\u001b[0;34m\u001b[0m\u001b[0;34m\u001b[0m\u001b[0m\n\u001b[0m\u001b[1;32m   1133\u001b[0m             \u001b[0mresult\u001b[0m\u001b[0;34m.\u001b[0m\u001b[0m_set_axis_nocheck\u001b[0m\u001b[0;34m(\u001b[0m\u001b[0mnew_index\u001b[0m\u001b[0;34m,\u001b[0m \u001b[0maxis\u001b[0m\u001b[0;34m=\u001b[0m\u001b[0maxis_no\u001b[0m\u001b[0;34m,\u001b[0m \u001b[0minplace\u001b[0m\u001b[0;34m=\u001b[0m\u001b[0;32mTrue\u001b[0m\u001b[0;34m,\u001b[0m \u001b[0mcopy\u001b[0m\u001b[0;34m=\u001b[0m\u001b[0;32mFalse\u001b[0m\u001b[0;34m)\u001b[0m\u001b[0;34m\u001b[0m\u001b[0;34m\u001b[0m\u001b[0m\n\u001b[1;32m   1134\u001b[0m             \u001b[0mresult\u001b[0m\u001b[0;34m.\u001b[0m\u001b[0m_clear_item_cache\u001b[0m\u001b[0;34m(\u001b[0m\u001b[0;34m)\u001b[0m\u001b[0;34m\u001b[0m\u001b[0;34m\u001b[0m\u001b[0m\n",
            "\u001b[0;32m/usr/local/lib/python3.12/dist-packages/pandas/core/indexes/base.py\u001b[0m in \u001b[0;36m_transform_index\u001b[0;34m(self, func, level)\u001b[0m\n\u001b[1;32m   6535\u001b[0m             \u001b[0;32mreturn\u001b[0m \u001b[0mtype\u001b[0m\u001b[0;34m(\u001b[0m\u001b[0mself\u001b[0m\u001b[0;34m)\u001b[0m\u001b[0;34m.\u001b[0m\u001b[0mfrom_arrays\u001b[0m\u001b[0;34m(\u001b[0m\u001b[0mvalues\u001b[0m\u001b[0;34m)\u001b[0m\u001b[0;34m\u001b[0m\u001b[0;34m\u001b[0m\u001b[0m\n\u001b[1;32m   6536\u001b[0m         \u001b[0;32melse\u001b[0m\u001b[0;34m:\u001b[0m\u001b[0;34m\u001b[0m\u001b[0;34m\u001b[0m\u001b[0m\n\u001b[0;32m-> 6537\u001b[0;31m             \u001b[0mitems\u001b[0m \u001b[0;34m=\u001b[0m \u001b[0;34m[\u001b[0m\u001b[0mfunc\u001b[0m\u001b[0;34m(\u001b[0m\u001b[0mx\u001b[0m\u001b[0;34m)\u001b[0m \u001b[0;32mfor\u001b[0m \u001b[0mx\u001b[0m \u001b[0;32min\u001b[0m \u001b[0mself\u001b[0m\u001b[0;34m]\u001b[0m\u001b[0;34m\u001b[0m\u001b[0;34m\u001b[0m\u001b[0m\n\u001b[0m\u001b[1;32m   6538\u001b[0m             \u001b[0;32mreturn\u001b[0m \u001b[0mIndex\u001b[0m\u001b[0;34m(\u001b[0m\u001b[0mitems\u001b[0m\u001b[0;34m,\u001b[0m \u001b[0mname\u001b[0m\u001b[0;34m=\u001b[0m\u001b[0mself\u001b[0m\u001b[0;34m.\u001b[0m\u001b[0mname\u001b[0m\u001b[0;34m,\u001b[0m \u001b[0mtupleize_cols\u001b[0m\u001b[0;34m=\u001b[0m\u001b[0;32mFalse\u001b[0m\u001b[0;34m)\u001b[0m\u001b[0;34m\u001b[0m\u001b[0;34m\u001b[0m\u001b[0m\n\u001b[1;32m   6539\u001b[0m \u001b[0;34m\u001b[0m\u001b[0m\n",
            "\u001b[0;31mTypeError\u001b[0m: 'str' object is not callable"
          ]
        }
      ],
      "source": [
        "TICKER = \"SPY\"\n",
        "START = \"2005-01-01\"\n",
        "END = None  # None = today\n",
        "\n",
        "data = yf.download(TICKER, start=START, end=END, auto_adjust=True, progress=False)\n",
        "assert not data.empty, \"No data downloaded. Check ticker or internet access.\"\n",
        "px = data['Close'].rename('close') # Select the 'Close' column before renaming\n",
        "ret = px.pct_change().dropna().rename('r')\n",
        "px.head() # Print the first few rows of px\n",
        "ret.head()"
      ]
    },
    {
      "cell_type": "markdown",
      "id": "cc696b35",
      "metadata": {
        "id": "cc696b35"
      },
      "source": [
        "## 4) Signals\n",
        "We construct two simple predictors:\n",
        "1. **Lag‑1 return**: `r_{t-1}`\n",
        "2. **Return z‑score (short window)**: standardized return over a short rolling window (e.g., 5 days)\n"
      ]
    },
    {
      "cell_type": "code",
      "execution_count": null,
      "id": "8582f649",
      "metadata": {
        "id": "8582f649"
      },
      "outputs": [],
      "source": [
        "W = 5  # rolling window for z‑score\n",
        "df = pd.DataFrame({'r': ret})\n",
        "df['r_lag1'] = df['r'].shift(1)\n",
        "roll_mean = df['r'].rolling(W).mean()\n",
        "roll_std = df['r'].rolling(W).std(ddof=0)\n",
        "df['r_z'] = (df['r'] - roll_mean) / roll_std\n",
        "df['r_z_lag1'] = df['r_z'].shift(1)\n",
        "df = df.dropna()\n",
        "df.tail()"
      ]
    },
    {
      "cell_type": "markdown",
      "id": "9e54b8f1",
      "metadata": {
        "id": "9e54b8f1"
      },
      "source": [
        "## 5) Predictive tests (OLS + Newey‑West HAC)\n",
        "We regress **next‑day returns** on the **lagged signal** and compute HAC (Newey‑West) standard errors to account for autocorrelation/heteroskedasticity.\n"
      ]
    },
    {
      "cell_type": "code",
      "execution_count": null,
      "id": "50b913e8",
      "metadata": {
        "id": "50b913e8"
      },
      "outputs": [],
      "source": [
        "def ols_hac(y, X, lags=5):\n",
        "    X = sm.add_constant(X)\n",
        "    model = sm.OLS(y, X, missing='drop')\n",
        "    res = model.fit(cov_type='HAC', cov_kwds={'maxlags': lags})\n",
        "    return res\n",
        "\n",
        "# (A) Using raw lag‑1 return as predictor\n",
        "y = df['r']            # today's return (acts as r_{t})\n",
        "X = df[['r_lag1']]     # yesterday's return (acts as r_{t-1})\n",
        "res_a = ols_hac(y=y, X=X, lags=5)\n",
        "print(res_a.summary())\n",
        "\n",
        "# (B) Using lagged z‑score as predictor\n",
        "Xz = df[['r_z_lag1']]\n",
        "res_b = ols_hac(y=y, X=Xz, lags=5)\n",
        "print(res_b.summary())\n"
      ]
    },
    {
      "cell_type": "markdown",
      "id": "1bc32410",
      "metadata": {
        "id": "1bc32410"
      },
      "source": [
        "### Diagnostic: scatter & binned means"
      ]
    },
    {
      "cell_type": "code",
      "execution_count": null,
      "id": "57f16f95",
      "metadata": {
        "id": "57f16f95"
      },
      "outputs": [],
      "source": [
        "# Scatter\n",
        "plt.figure()\n",
        "plt.scatter(df['r_lag1'], df['r'], s=6, alpha=0.4)\n",
        "plt.axhline(0, linewidth=1)\n",
        "plt.axvline(0, linewidth=1)\n",
        "plt.title(\"Scatter: r_t vs r_{t+1}\")\n",
        "plt.xlabel(\"r_t (lag‑1)\")\n",
        "plt.ylabel(\"r_{t+1}\")\n",
        "plt.show()\n",
        "\n",
        "# Binned means to visualize relation\n",
        "bins = pd.qcut(df['r_lag1'], q=20, duplicates='drop')\n",
        "binned = df.groupby(bins)['r'].mean()\n",
        "plt.figure()\n",
        "binned.plot(kind='bar')\n",
        "plt.title(\"Binned mean of r_{t+1} by r_t quantiles\")\n",
        "plt.ylabel(\"Mean r_{t+1}\")\n",
        "plt.tight_layout()\n",
        "plt.show()\n"
      ]
    },
    {
      "cell_type": "markdown",
      "id": "154bab37",
      "metadata": {
        "id": "154bab37"
      },
      "source": [
        "## 6) Naïve mean‑reversion strategy\n",
        "**Rule:** If yesterday's return was **negative**, go **long** today; if it was **positive**, go **short** today.\n",
        "- Position $p_t = -\\text{sign}(r_{t-1})$\n",
        "- Strategy return $s_t = p_t \\cdot r_t$ minus transaction costs when position changes.\n"
      ]
    },
    {
      "cell_type": "code",
      "execution_count": null,
      "id": "8202efef",
      "metadata": {
        "id": "8202efef"
      },
      "outputs": [],
      "source": [
        "sign = np.sign(df['r_lag1']).replace(0, 0)  # treat zero as flat\n",
        "position = -sign  # long after down day, short after up day\n",
        "\n",
        "# Transaction costs: charge TC_BPS on absolute change in position (round‑trip approx)\n",
        "pos_change = position.diff().abs().fillna(0)\n",
        "tc = (TC_BPS / 1e4) * pos_change  # cost as fraction of capital\n",
        "strat_ret_gross = position * df['r']\n",
        "strat_ret_net = strat_ret_gross - tc\n",
        "\n",
        "equity = (1 + strat_ret_net).cumprod()\n",
        "buyhold = (1 + df['r']).cumprod()\n",
        "\n",
        "cum = pd.DataFrame({\n",
        "    'Strategy': equity,\n",
        "    f'Buy&Hold({TICKER})': buyhold\n",
        "})\n",
        "\n",
        "# Summary stats\n",
        "def ann_stats(series, freq=252):\n",
        "    r = series\n",
        "    mu = r.mean() * freq\n",
        "    sig = r.std(ddof=0) * np.sqrt(freq)\n",
        "    sharpe = mu / sig if sig != 0 else np.nan\n",
        "    dd = (1 + r).cumprod()\n",
        "    peak = dd.cummax()\n",
        "    mdd = (dd/peak - 1).min()\n",
        "    return pd.Series({'Ann.Return': mu, 'Ann.Vol': sig, 'Sharpe': sharpe, 'MaxDD': mdd})\n",
        "\n",
        "summary = pd.DataFrame({\n",
        "    'Strategy': ann_stats(strat_ret_net),\n",
        "    f'Buy&Hold({TICKER})': ann_stats(df['r'])\n",
        "})\n",
        "\n",
        "display(summary.round(4))\n",
        "\n",
        "plt.figure()\n",
        "cum.plot()\n",
        "plt.title(\"Cumulative Growth of $1\")\n",
        "plt.ylabel(\"Growth of $1\")\n",
        "plt.xlabel(\"Date\")\n",
        "plt.show()\n"
      ]
    },
    {
      "cell_type": "markdown",
      "id": "a29986d6",
      "metadata": {
        "id": "a29986d6"
      },
      "source": [
        "## 7) Quick out‑of‑sample (expanding window) check\n",
        "We estimate $\\beta$ on an expanding window and trade only if $\\beta<0$ (mean‑reversion sign) using the **lag‑1 return** predictor.\n"
      ]
    },
    {
      "cell_type": "code",
      "execution_count": null,
      "id": "7cdfaa6e",
      "metadata": {
        "id": "7cdfaa6e"
      },
      "outputs": [],
      "source": [
        "min_train = 252  # ~1 year\n",
        "r = df['r'].copy()\n",
        "rlag = df['r_lag1'].copy()\n",
        "\n",
        "oos_returns = []\n",
        "betas = []\n",
        "idx = df.index\n",
        "\n",
        "for t in range(min_train, len(df)):\n",
        "    train_y = r.iloc[:t]\n",
        "    train_X = sm.add_constant(rlag.iloc[:t])\n",
        "    res = sm.OLS(train_y, train_X, missing='drop').fit()\n",
        "    beta = res.params.get('r_lag1', np.nan)\n",
        "    betas.append(beta)\n",
        "\n",
        "    # Signal for day t: use r_{t-1}, position = -sign(beta) * sign(r_{t-1}) if beta < 0 else 0\n",
        "    # (only trade if sign indicates mean reversion)\n",
        "    rt_1 = rlag.iloc[t]\n",
        "    pos = -np.sign(beta) * np.sign(rt_1) if np.isfinite(beta) else 0\n",
        "    # Require beta < 0 to trade\n",
        "    if beta < 0:\n",
        "        oos_returns.append(pos * r.iloc[t])\n",
        "    else:\n",
        "        oos_returns.append(0.0)\n",
        "\n",
        "oos = pd.Series(oos_returns, index=idx[min_train:])\n",
        "oos_equity = (1 + oos).cumprod()\n",
        "oos_stats = ann_stats(oos)\n",
        "\n",
        "display(oos_stats.round(4))\n",
        "\n",
        "plt.figure()\n",
        "oos_equity.plot()\n",
        "plt.title(\"Expanding‑Window OOS Strategy (Mean Reversion Gate)\")\n",
        "plt.ylabel(\"Growth of $1\")\n",
        "plt.xlabel(\"Date\")\n",
        "plt.show()\n"
      ]
    },
    {
      "cell_type": "markdown",
      "id": "0bcdb534",
      "metadata": {
        "id": "0bcdb534"
      },
      "source": [
        "## 8) Conclusion & Caveats\n",
        "- Check if $\\beta$ is **significantly negative** (HAC t‑stat) → evidence of short‑horizon mean reversion.\n",
        "- Inspect out‑of‑sample performance; in practice, add **transaction cost modeling**, **slippage**, and **execution constraints**.\n",
        "- Avoid **data‑snooping**: don’t tune on the full sample. Prefer *walk‑forward* validation and holdout periods.\n",
        "- Consider robustness: different windows, volatility filters, and multiple tickers/universe tests.\n",
        "\n",
        "**Next ideas:**\n",
        "- Use **Newey‑West lag selection** based on sampling frequency.\n",
        "- Add a **volatility or spread filter** (trade only when volatility or bid‑ask spreads are favorable).\n",
        "- Test across **multiple assets** (e.g., large‑cap constituents) and evaluate cross‑sectional signals.\n"
      ]
    }
  ],
  "metadata": {
    "kernelspec": {
      "display_name": "Python 3",
      "name": "python3"
    },
    "colab": {
      "provenance": [],
      "include_colab_link": true
    }
  },
  "nbformat": 4,
  "nbformat_minor": 5
}