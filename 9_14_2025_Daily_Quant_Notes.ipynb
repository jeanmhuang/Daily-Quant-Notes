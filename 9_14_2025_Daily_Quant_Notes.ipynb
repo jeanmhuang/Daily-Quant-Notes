{
  "cells": [
    {
      "cell_type": "markdown",
      "metadata": {
        "id": "view-in-github",
        "colab_type": "text"
      },
      "source": [
        "<a href=\"https://colab.research.google.com/github/jeanmhuang/Daily-Quant-Notes/blob/main/9_14_2025_Daily_Quant_Notes.ipynb\" target=\"_parent\"><img src=\"https://colab.research.google.com/assets/colab-badge.svg\" alt=\"Open In Colab\"/></a>"
      ]
    },
    {
      "cell_type": "markdown",
      "id": "142e4264",
      "metadata": {
        "id": "142e4264"
      },
      "source": [
        "# 🧠 Daily Quant Notes — 2025-09-14\n",
        "\n",
        "A clean, repeatable daily workflow for market prep, review, and hypothesis tracking.\n",
        "\n",
        "**How to use:**\n",
        "1) Run the setup cell to install packages.\n",
        "2) Set your watchlist & dates in the **Parameters** cell.\n",
        "3) Run each section top-to-bottom. Edit the notes tables in place.\n",
        "4) At the end, export a daily markdown summary and (optionally) save logs to Google Drive.\n",
        "\n"
      ]
    },
    {
      "cell_type": "code",
      "execution_count": null,
      "id": "78389be8",
      "metadata": {
        "id": "78389be8"
      },
      "outputs": [],
      "source": [
        "# %%capture\n",
        "# ✅ Setup: install/upgrade core libs (Colab-friendly)\n",
        "!pip -q install --upgrade yfinance pandas pandas_ta plotly pandas_datareader matplotlib pandas_market_calendars\n"
      ]
    },
    {
      "cell_type": "code",
      "execution_count": null,
      "id": "f06b964e",
      "metadata": {
        "id": "f06b964e"
      },
      "outputs": [],
      "source": [
        "# Parameters — edit me\n",
        "from datetime import datetime, timedelta\n",
        "\n",
        "# Market universe: add/remove tickers as needed\n",
        "WATCHLIST = [\n",
        "    \"SPY\",\"QQQ\",\"IWM\",\"DIA\",\n",
        "    \"XLK\",\"XLF\",\"XLY\",\"XLP\",\"XLV\",\"XLI\",\"XLE\",\"XLU\",\"XLB\",\"XLRE\",\"XLC\",\n",
        "    \"TLT\",\"IEF\",\"SHY\",\"HYG\",\"LQD\",\n",
        "    \"^VIX\",\"GC=F\",\"CL=F\",\"NG=F\",\"DX-Y.NYB\",\"BTC-USD\",\"ETH-USD\"\n",
        "]\n",
        "\n",
        "BENCHMARK = \"SPY\"\n",
        "START_DAYS = 365  # lookback for charts & indicators\n",
        "START = (datetime.today() - timedelta(days=START_DAYS)).strftime(\"%Y-%m-%d\")\n",
        "END = datetime.today().strftime(\"%Y-%m-%d\")\n",
        "\n",
        "# Optional: your custom idea tickers\n",
        "IDEA_TICKERS = [\"NVDA\",\"AAPL\",\"MSFT\",\"META\",\"AMZN\"]\n",
        "\n",
        "print(f\"Universe size: {len(WATCHLIST)} | Start: {START} End: {END}\")\n"
      ]
    },
    {
      "cell_type": "code",
      "execution_count": null,
      "id": "fa5092c2",
      "metadata": {
        "id": "fa5092c2"
      },
      "outputs": [],
      "source": [
        "# Imports\n",
        "import pandas as pd, numpy as np, yfinance as yf, pandas_ta as ta\n",
        "import plotly.express as px\n",
        "import matplotlib.pyplot as plt\n",
        "from pandas_datareader import data as pdr\n",
        "import pandas_market_calendars as mcal\n",
        "from datetime import datetime\n",
        "import textwrap, os, pathlib\n",
        "\n",
        "pd.set_option(\"display.float_format\", lambda x: f\"{x:,.4f}\")\n"
      ]
    },
    {
      "cell_type": "markdown",
      "id": "ea477d09",
      "metadata": {
        "id": "ea477d09"
      },
      "source": [
        "## 1) Market Calendar & Session Info"
      ]
    },
    {
      "cell_type": "code",
      "execution_count": null,
      "id": "c2126532",
      "metadata": {
        "id": "c2126532"
      },
      "outputs": [],
      "source": [
        "# Trading calendar (NYSE) and today's session context\n",
        "nyse = mcal.get_calendar('XNYS')\n",
        "schedule = nyse.schedule(start_date=pd.Timestamp.today().normalize() - pd.Timedelta(days=14),\n",
        "                         end_date=pd.Timestamp.today().normalize() + pd.Timedelta(days=7))\n",
        "\n",
        "today = pd.Timestamp.today(tz='America/New_York')\n",
        "is_trading_day = nyse.valid_days(today.normalize(), today.normalize()).size > 0\n",
        "next_open = nyse.schedule(start_date=today, end_date=today + pd.Timedelta(days=7))['market_open'].iloc[0] if not is_trading_day else pd.NaT\n",
        "\n",
        "print(f\"Today (NY): {today:%Y-%m-%d %H:%M %Z}\")\n",
        "print(f\"Is trading day? {is_trading_day}\")\n",
        "display(schedule.tail(10))"
      ]
    },
    {
      "cell_type": "markdown",
      "id": "e8f8106a",
      "metadata": {
        "id": "e8f8106a"
      },
      "source": [
        "## 2) Price Data Download"
      ]
    },
    {
      "cell_type": "code",
      "execution_count": null,
      "id": "2ca87e7e",
      "metadata": {
        "id": "2ca87e7e"
      },
      "outputs": [],
      "source": [
        "# Download adjusted prices for WATCHLIST\n",
        "def fetch_prices(tickers, start, end):\n",
        "    try:\n",
        "        data = yf.download(tickers, start=start, end=end, auto_adjust=True, progress=False)\n",
        "        if isinstance(data.columns, pd.MultiIndex):\n",
        "            data = data['Close']\n",
        "        else:\n",
        "            data = data.rename(columns={'Close':'Close'})\n",
        "        return data.dropna(how='all')\n",
        "    except Exception as e:\n",
        "        print(\"Download error:\", e)\n",
        "        return pd.DataFrame()\n",
        "\n",
        "prices = fetch_prices(WATCHLIST, START, END)\n",
        "print(prices.shape)\n",
        "display(prices.tail())"
      ]
    },
    {
      "cell_type": "markdown",
      "id": "e7b3a513",
      "metadata": {
        "id": "e7b3a513"
      },
      "source": [
        "## 3) Snapshot — Returns & Heatmap"
      ]
    },
    {
      "cell_type": "code",
      "execution_count": null,
      "id": "46029058",
      "metadata": {
        "id": "46029058"
      },
      "outputs": [],
      "source": [
        "# Compute return windows\n",
        "def compute_returns(df):\n",
        "    ret = pd.DataFrame(index=df.columns)\n",
        "    last = df.ffill().iloc[-1]\n",
        "    ret['1D'] = df.ffill().pct_change().iloc[-1]\n",
        "    ret['5D'] = df.ffill().pct_change(5).iloc[-1]\n",
        "    ret['1M'] = df.ffill().pct_change(21).iloc[-1]\n",
        "    ret['3M'] = df.ffill().pct_change(63).iloc[-1]\n",
        "    ret['6M'] = df.ffill().pct_change(126).iloc[-1]\n",
        "    ret['YTD'] = df[df.index >= f\"{datetime.today().year}-01-01\"].ffill().pct_change().iloc[-1]\n",
        "    ret['Price'] = last.values\n",
        "    return ret.sort_values('1D', ascending=False)\n",
        "\n",
        "returns = compute_returns(prices)\n",
        "display(returns.style.background_gradient(cmap='RdYlGn', subset=['1D','5D','1M','3M','6M','YTD']).format(\"{:.2%}\"))\n",
        "\n",
        "# Plot benchmark vs a few assets\n",
        "subset = prices[[c for c in prices.columns if c in [BENCHMARK,\"^VIX\",\"TLT\",\"CL=F\",\"DX-Y.NYB\"] and c in prices.columns]]\n",
        "if not subset.empty:\n",
        "    norm = subset / subset.iloc[0] * 100\n",
        "    norm.plot(figsize=(10,5), title=\"Indexed Performance (100 = start)\")\n",
        "    plt.xlabel(\"Date\"); plt.ylabel(\"Indexed Level\")\n",
        "    plt.show()\n"
      ]
    },
    {
      "cell_type": "markdown",
      "id": "224a192f",
      "metadata": {
        "id": "224a192f"
      },
      "source": [
        "## 4) Technicals — RSI & MACD (Idea Tickers)"
      ]
    },
    {
      "cell_type": "code",
      "execution_count": null,
      "id": "8e0672c6",
      "metadata": {
        "id": "8e0672c6"
      },
      "outputs": [],
      "source": [
        "def add_technicals(ticker, start=START, end=END):\n",
        "    df = fetch_prices([ticker], start, end)\n",
        "    if df.empty:\n",
        "        return pd.DataFrame()\n",
        "    s = df[ticker].to_frame('Close')\n",
        "    s['RSI14'] = ta.rsi(s['Close'], length=14)\n",
        "    macd = ta.macd(s['Close'], fast=12, slow=26, signal=9)\n",
        "    s = pd.concat([s, macd], axis=1)\n",
        "    return s.dropna()\n",
        "\n",
        "tech = {t: add_technicals(t) for t in IDEA_TICKERS}\n",
        "# Show latest snapshot\n",
        "latest_rows = []\n",
        "for t, df in tech.items():\n",
        "    if df.empty: continue\n",
        "    latest = df.iloc[-1][['Close','RSI14','MACD_12_26_9','MACDs_12_26_9','MACDh_12_26_9']]\n",
        "    latest.name = t\n",
        "    latest_rows.append(latest)\n",
        "if latest_rows:\n",
        "    tech_df = pd.DataFrame(latest_rows)\n",
        "    display(tech_df.style.format({'Close':'{:.2f}','RSI14':'{:.1f}','MACD_12_26_9':'{:.2f}','MACDs_12_26_9':'{:.2f}','MACDh_12_26_9':'{:.2f}'}))\n"
      ]
    },
    {
      "cell_type": "markdown",
      "id": "070e1643",
      "metadata": {
        "id": "070e1643"
      },
      "source": [
        "## 5) Rates & Macro — FRED Yields (Optional)"
      ]
    },
    {
      "cell_type": "code",
      "execution_count": null,
      "id": "ff50418d",
      "metadata": {
        "id": "ff50418d"
      },
      "outputs": [],
      "source": [
        "# Try to pull a few FRED series; skip gracefully if blocked\n",
        "FRED_SERIES = {\n",
        "    \"DGS2\":\"2Y Treasury\",\n",
        "    \"DGS10\":\"10Y Treasury\",\n",
        "    \"T10Y2Y\":\"10Y-2Y Spread\"\n",
        "}\n",
        "fred = {}\n",
        "for code, name in FRED_SERIES.items():\n",
        "    try:\n",
        "        s = pdr.DataReader(code, 'fred', START, END).dropna()\n",
        "        fred[name] = s[code]\n",
        "    except Exception as e:\n",
        "        print(f\"FRED fetch failed for {name} ({code}):\", e)\n",
        "\n",
        "if fred:\n",
        "    fred_df = pd.DataFrame(fred).dropna()\n",
        "    display(fred_df.tail())\n",
        "    fred_df.plot(figsize=(10,5), title=\"FRED Yields / Spreads\")\n",
        "    plt.xlabel(\"Date\"); plt.ylabel(\"Percent / Spread\")\n",
        "    plt.show()\n"
      ]
    },
    {
      "cell_type": "markdown",
      "id": "c14afc27",
      "metadata": {
        "id": "c14afc27"
      },
      "source": [
        "## 6) Volatility — VIX & Realized"
      ]
    },
    {
      "cell_type": "code",
      "execution_count": null,
      "id": "7ab30861",
      "metadata": {
        "id": "7ab30861"
      },
      "outputs": [],
      "source": [
        "# VIX and simple realized vol (close-to-close) on SPY\n",
        "def realized_vol(series, window=21):\n",
        "    returns = series.pct_change()\n",
        "    return returns.rolling(window).std() * np.sqrt(252)\n",
        "\n",
        "out = {}\n",
        "if \"^VIX\" in prices.columns:\n",
        "    out['VIX'] = prices[\"^VIX\"]\n",
        "if BENCHMARK in prices.columns:\n",
        "    out['RealizedVol_SPY_21d'] = realized_vol(prices[BENCHMARK])\n",
        "\n",
        "vol_df = pd.DataFrame(out).dropna()\n",
        "display(vol_df.tail())\n",
        "vol_df.plot(figsize=(10,5), title=\"Vol Dashboard\")\n",
        "plt.xlabel(\"Date\"); plt.ylabel(\"Level / Vol\")\n",
        "plt.show()\n"
      ]
    },
    {
      "cell_type": "markdown",
      "id": "d19ad1f2",
      "metadata": {
        "id": "d19ad1f2"
      },
      "source": [
        "## 7) Ideas Tracker — Hypotheses & Triggers"
      ]
    },
    {
      "cell_type": "code",
      "execution_count": null,
      "id": "2c82ddee",
      "metadata": {
        "id": "2c82ddee"
      },
      "outputs": [],
      "source": [
        "# Editable table for today’s hypotheses\n",
        "ideas_cols = [\n",
        "    \"date\",\"ticker\",\"thesis\",\"signal/setup\",\"entry\",\"stop\",\"target\",\"confidence_1to5\",\"status\"\n",
        "]\n",
        "try:\n",
        "    ideas = pd.read_csv(\"ideas_log.csv\")\n",
        "    # Keep only known columns\n",
        "    ideas = ideas[[c for c in ideas_cols if c in ideas.columns]]\n",
        "except:\n",
        "    ideas = pd.DataFrame(columns=ideas_cols)\n",
        "\n",
        "today_str = pd.Timestamp.today().strftime(\"%Y-%m-%d\")\n",
        "new_row = {c:\"\" for c in ideas_cols}\n",
        "new_row[\"date\"] = today_str\n",
        "ideas = pd.concat([ideas, pd.DataFrame([new_row])], ignore_index=True)\n",
        "display(ideas.tail(10))\n",
        "\n",
        "# Save anytime after editing the DF in-place:\n",
        "# ideas.to_csv(\"ideas_log.csv\", index=False)\n"
      ]
    },
    {
      "cell_type": "markdown",
      "id": "4269d920",
      "metadata": {
        "id": "4269d920"
      },
      "source": [
        "## 8) P&L & Risk Log"
      ]
    },
    {
      "cell_type": "code",
      "execution_count": null,
      "id": "5b6d1bba",
      "metadata": {
        "id": "5b6d1bba"
      },
      "outputs": [],
      "source": [
        "pnl_cols = [\"date\",\"strategy\",\"gross_pnl\",\"fees\",\"net_pnl\",\"notes\"]\n",
        "risk_cols = [\"date\",\"exposure_long\",\"exposure_short\",\"gross_exposure\",\"net_exposure\",\"var_estimate\",\"notes\"]\n",
        "\n",
        "def init_or_load(path, cols):\n",
        "    try:\n",
        "        df = pd.read_csv(path)\n",
        "        df = df[[c for c in cols if c in df.columns]]\n",
        "    except:\n",
        "        df = pd.DataFrame(columns=cols)\n",
        "    return df\n",
        "\n",
        "pnl = init_or_load(\"pnl_log.csv\", pnl_cols)\n",
        "risk = init_or_load(\"risk_log.csv\", risk_cols)\n",
        "\n",
        "for df, cols in [(pnl, pnl_cols),(risk, risk_cols)]:\n",
        "    if df.empty or (pd.Timestamp.today().strftime(\"%Y-%m-%d\") not in df.get('date',[]).values):\n",
        "        df.loc[len(df.index)] = {c:\"\" for c in cols}\n",
        "        df.at[len(df.index)-1, \"date\"] = pd.Timestamp.today().strftime(\"%Y-%m-%d\")\n",
        "\n",
        "print(\"P&L Log (tail):\")\n",
        "display(pnl.tail(5))\n",
        "print(\"Risk Log (tail):\")\n",
        "display(risk.tail(5))\n",
        "\n",
        "# Example save:\n",
        "# pnl.to_csv(\"pnl_log.csv\", index=False)\n",
        "# risk.to_csv(\"risk_log.csv\", index=False)\n"
      ]
    },
    {
      "cell_type": "markdown",
      "id": "972b31b3",
      "metadata": {
        "id": "972b31b3"
      },
      "source": [
        "## 9) Notes — Morning Plan / Midday Check / EOD Review"
      ]
    },
    {
      "cell_type": "code",
      "execution_count": null,
      "id": "dc0aebfd",
      "metadata": {
        "id": "dc0aebfd"
      },
      "outputs": [],
      "source": [
        "# Free-form notes with headers. Edit inline as needed.\n",
        "TEMPLATE = f\"\"\"\n",
        "### Morning Plan ({pd.Timestamp.today():%Y-%m-%d})\n",
        "- Themes:\n",
        "- Key levels:\n",
        "- Data today:\n",
        "- What would make me wrong?\n",
        "\n",
        "### Midday Check\n",
        "- What changed?\n",
        "- New risks?\n",
        "- Adds/trims?\n",
        "\n",
        "### End-of-Day Review\n",
        "- What worked / didn't?\n",
        "- What did I learn?\n",
        "- What to carry into tomorrow?\n",
        "\"\"\"\n",
        "\n",
        "try:\n",
        "    with open(\"daily_notes.md\",\"r\") as f:\n",
        "        existing = f.read()\n",
        "except:\n",
        "    existing = \"\"\n",
        "\n",
        "if TEMPLATE.strip() not in existing:\n",
        "    existing += \"\\n\\n\" + TEMPLATE\n",
        "\n",
        "print(existing)\n",
        "# Save after editing:\n",
        "# with open(\"daily_notes.md\",\"w\") as f: f.write(existing)\n"
      ]
    },
    {
      "cell_type": "markdown",
      "id": "7fb72460",
      "metadata": {
        "id": "7fb72460"
      },
      "source": [
        "## 10) Export Daily Summary (Markdown)"
      ]
    },
    {
      "cell_type": "code",
      "execution_count": null,
      "id": "7d70831f",
      "metadata": {
        "id": "7d70831f"
      },
      "outputs": [],
      "source": [
        "# Compose a compact summary from current tables\n",
        "from io import StringIO\n",
        "\n",
        "def fmt_returns(df, names=(\"SPY\",\"QQQ\",\"IWM\")):\n",
        "    keep = [n for n in names if n in df.index]\n",
        "    if not keep:\n",
        "        return \"N/A\"\n",
        "    sub = df.loc[keep, [\"1D\",\"5D\",\"1M\",\"YTD\"]].applymap(lambda x: f\"{x:.2%}\")\n",
        "    return sub.to_markdown()\n",
        "\n",
        "summary = f\"\"\"# Daily Summary — {pd.Timestamp.today():%Y-%m-%d}\n",
        "\n",
        "## Benchmarks\n",
        "{fmt_returns(returns)}\n",
        "\n",
        "## Vol\n",
        "Latest VIX: {float(returns.loc['^VIX','1D']):.2%} (1D) if '^VIX' in returns.index else 'N/A'\n",
        "\n",
        "## Latest Ideas\n",
        "{(ideas.tail(5).to_markdown(index=False) if 'ideas' in globals() else 'N/A')}\n",
        "\n",
        "## P&L (tail)\n",
        "{(pnl.tail(5).to_markdown(index=False) if 'pnl' in globals() else 'N/A')}\n",
        "\n",
        "\"\"\"\n",
        "\n",
        "fname = f\"daily_summary_{pd.Timestamp.today():%Y%m%d}.md\"\n",
        "with open(fname, \"w\") as f:\n",
        "    f.write(summary)\n",
        "\n",
        "print(f\"Wrote {fname}\")\n",
        "print(summary)\n"
      ]
    },
    {
      "cell_type": "markdown",
      "id": "07648a65",
      "metadata": {
        "id": "07648a65"
      },
      "source": [
        "## 11) (Optional) Save logs to Google Drive"
      ]
    },
    {
      "cell_type": "code",
      "execution_count": null,
      "id": "2f80bd6e",
      "metadata": {
        "id": "2f80bd6e"
      },
      "outputs": [],
      "source": [
        "# Run this cell to mount Google Drive and save logs\n",
        "# from google.colab import drive\n",
        "# drive.mount('/content/drive')\n",
        "\n",
        "# SAVE_DIR = \"/content/drive/MyDrive/DailyQuantNotes\"\n",
        "# os.makedirs(SAVE_DIR, exist_ok=True)\n",
        "\n",
        "# for name in [\"ideas_log.csv\",\"pnl_log.csv\",\"risk_log.csv\",\"daily_notes.md\"]:\n",
        "#     if os.path.exists(name):\n",
        "#         !cp -f $name $SAVE_DIR/\n",
        "# print(\"Synced logs to Drive.\")"
      ]
    },
    {
      "cell_type": "markdown",
      "id": "3e4afa3e",
      "metadata": {
        "id": "3e4afa3e"
      },
      "source": [
        "---\n",
        "### 🧩 Notes\n",
        "- Edit tables in-place, then run the save lines (commented) to persist.\n",
        "- To add custom factors/signals, build on the **Technicals** section.\n",
        "- Consider adding your own **pipeline** (universe, filters, alpha) block.\n",
        "- For econ calendars, paste from your source or use APIs per your access.\n",
        "\n",
        "**Happy trading & researching!**"
      ]
    }
  ],
  "metadata": {
    "colab": {
      "provenance": [],
      "include_colab_link": true
    }
  },
  "nbformat": 4,
  "nbformat_minor": 5
}